{
  "nbformat": 4,
  "nbformat_minor": 0,
  "metadata": {
    "colab": {
      "provenance": []
    },
    "kernelspec": {
      "name": "python3",
      "display_name": "Python 3"
    },
    "language_info": {
      "name": "python"
    }
  },
  "cells": [
    {
      "cell_type": "code",
      "source": [
        "!python -m pip install lxml\n",
        "!python -m pip install requests\n",
        "!python -m pip install beautifulsoup4"
      ],
      "metadata": {
        "id": "5QHefW0Xapm_"
      },
      "execution_count": null,
      "outputs": []
    },
    {
      "cell_type": "code",
      "source": [
        "# scraper.py\n",
        "import requests\n",
        "from bs4 import BeautifulSoup\n",
        "\n",
        "jokes = []\n",
        "\n",
        "url = 'https://anekdoty.ru/pro-shtirlica/'\n",
        "response = requests.get(url)\n",
        "soup = BeautifulSoup(response.text, 'lxml')\n",
        "quotes = soup.find_all('div', class_=\"holder-body\")\n",
        "\n",
        "for quote in quotes:\n",
        "  jokes.append(quote.text)"
      ],
      "metadata": {
        "id": "CetLkSrUebs8"
      },
      "execution_count": null,
      "outputs": []
    },
    {
      "cell_type": "code",
      "source": [
        "for i in range(2, 23):\n",
        "  url = 'https://anekdoty.ru/pro-shtirlica/' + '/page/' + str(i) + \"/\"\n",
        "  response = requests.get(url)\n",
        "  soup = BeautifulSoup(response.text, 'lxml')\n",
        "  quotes = soup.find_all('div', class_=\"holder-body\")\n",
        "\n",
        "  for quote in quotes:\n",
        "    jokes.append(quote.text)"
      ],
      "metadata": {
        "id": "FAvgdbpWhSPB"
      },
      "execution_count": null,
      "outputs": []
    },
    {
      "cell_type": "code",
      "source": [
        "print(jokes[0])"
      ],
      "metadata": {
        "colab": {
          "base_uri": "https://localhost:8080/"
        },
        "id": "X9HgnMHdlUGI",
        "outputId": "b3ad3754-537d-43a0-8eb4-1bb0e11f7f89"
      },
      "execution_count": null,
      "outputs": [
        {
          "output_type": "stream",
          "name": "stdout",
          "text": [
            "\n",
            "Мюллер шел по улице. Вдруг ему на голову упал кирпич. \r\n",
            "\"Вот те раз,\" - подумал Мюллер. \r\n",
            "\"Вот те два,\" - подумал Штирлиц, бросая второй кирпич.\n",
            "\n"
          ]
        }
      ]
    },
    {
      "cell_type": "code",
      "source": [
        "!python -m pip install pandas\n",
        "import pandas as pd"
      ],
      "metadata": {
        "colab": {
          "base_uri": "https://localhost:8080/"
        },
        "id": "YubiOLz0VYOo",
        "outputId": "7150a991-87e2-49b8-ff03-c88efbbe46ef"
      },
      "execution_count": null,
      "outputs": [
        {
          "output_type": "stream",
          "name": "stdout",
          "text": [
            "Requirement already satisfied: pandas in /usr/local/lib/python3.7/dist-packages (1.3.5)\n",
            "Requirement already satisfied: pytz>=2017.3 in /usr/local/lib/python3.7/dist-packages (from pandas) (2022.1)\n",
            "Requirement already satisfied: numpy>=1.17.3 in /usr/local/lib/python3.7/dist-packages (from pandas) (1.21.6)\n",
            "Requirement already satisfied: python-dateutil>=2.7.3 in /usr/local/lib/python3.7/dist-packages (from pandas) (2.8.2)\n",
            "Requirement already satisfied: six>=1.5 in /usr/local/lib/python3.7/dist-packages (from python-dateutil>=2.7.3->pandas) (1.15.0)\n"
          ]
        }
      ]
    },
    {
      "cell_type": "code",
      "source": [
        "df = pd.DataFrame(jokes)"
      ],
      "metadata": {
        "id": "AifrTdfoVnPv"
      },
      "execution_count": null,
      "outputs": []
    },
    {
      "cell_type": "code",
      "source": [
        "from google.colab import drive"
      ],
      "metadata": {
        "id": "93igYuBgZTC4"
      },
      "execution_count": null,
      "outputs": []
    },
    {
      "cell_type": "code",
      "source": [
        "df.to_excel('/content/jokes.xlsx')"
      ],
      "metadata": {
        "id": "suOisWMEVxWa"
      },
      "execution_count": null,
      "outputs": []
    }
  ]
}